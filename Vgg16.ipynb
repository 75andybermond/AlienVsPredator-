{
 "cells": [
  {
   "cell_type": "code",
   "execution_count": null,
   "id": "54d5d6a6-bbae-4e69-8fe4-33b5c5bb2761",
   "metadata": {},
   "outputs": [],
   "source": [
    "from keras.layers import Input, Lambda, Dense, Flatten\n",
    "from keras.models import Model\n",
    "from keras.applications.vgg16 import VGG16\n",
    "from keras.applications.vgg16 import preprocess_input\n",
    "from keras.preprocessing import image\n",
    "from keras.preprocessing.image import ImageDataGenerator\n",
    "from keras.models import Sequential\n",
    "from tensorflow.keras.models import Sequential\n",
    "from sklearn.metrics import accuracy_score, recall_score, confusion_matrix, ConfusionMatrixDisplay\n",
    "import keras\n",
    "import numpy as np\n",
    "import pandas as pd\n",
    "from glob import glob\n",
    "import matplotlib.pyplot as plt\n",
    "import os "
   ]
  },
  {
   "cell_type": "code",
   "execution_count": 2,
   "id": "045c6974-1e3b-4d1b-a2a6-dbfc6806d136",
   "metadata": {},
   "outputs": [],
   "source": [
    "img_height_width = [150, 150]\n",
    "\n",
    "\n",
    "base_dir = r\"C:/Users/utilisateur/Desktop/IA/learningCode/Projects_Simplon/AlienVsPredator/\"\n",
    "\n",
    "train_dir =  os.path.join(base_dir,\"Train\")\n",
    "validation_dir =  os.path.join(base_dir,\"Validation\")\n",
    "test_dir =  os.path.join(base_dir,\"Test\")\n"
   ]
  },
  {
   "cell_type": "code",
   "execution_count": 3,
   "id": "f82268be-56ed-4155-abd1-914ea698b232",
   "metadata": {},
   "outputs": [],
   "source": [
    "# add preprocessing layer to the front of VGG\n",
    "vgg = VGG16(input_shape=(150,150,3) , weights='imagenet', include_top=False) \n",
    "# include_top = whether to include the 3 fully-connected layers at the top of the network.\n",
    "# [3] =  It should have exactly 3 input channels. "
   ]
  },
  {
   "cell_type": "code",
   "execution_count": 4,
   "id": "94d31df6-907d-4664-8835-f2aecf07f34b",
   "metadata": {},
   "outputs": [
    {
     "name": "stdout",
     "output_type": "stream",
     "text": [
      "Model: \"vgg16\"\n",
      "_________________________________________________________________\n",
      " Layer (type)                Output Shape              Param #   \n",
      "=================================================================\n",
      " input_1 (InputLayer)        [(None, 150, 150, 3)]     0         \n",
      "                                                                 \n",
      " block1_conv1 (Conv2D)       (None, 150, 150, 64)      1792      \n",
      "                                                                 \n",
      " block1_conv2 (Conv2D)       (None, 150, 150, 64)      36928     \n",
      "                                                                 \n",
      " block1_pool (MaxPooling2D)  (None, 75, 75, 64)        0         \n",
      "                                                                 \n",
      " block2_conv1 (Conv2D)       (None, 75, 75, 128)       73856     \n",
      "                                                                 \n",
      " block2_conv2 (Conv2D)       (None, 75, 75, 128)       147584    \n",
      "                                                                 \n",
      " block2_pool (MaxPooling2D)  (None, 37, 37, 128)       0         \n",
      "                                                                 \n",
      " block3_conv1 (Conv2D)       (None, 37, 37, 256)       295168    \n",
      "                                                                 \n",
      " block3_conv2 (Conv2D)       (None, 37, 37, 256)       590080    \n",
      "                                                                 \n",
      " block3_conv3 (Conv2D)       (None, 37, 37, 256)       590080    \n",
      "                                                                 \n",
      " block3_pool (MaxPooling2D)  (None, 18, 18, 256)       0         \n",
      "                                                                 \n",
      " block4_conv1 (Conv2D)       (None, 18, 18, 512)       1180160   \n",
      "                                                                 \n",
      " block4_conv2 (Conv2D)       (None, 18, 18, 512)       2359808   \n",
      "                                                                 \n",
      " block4_conv3 (Conv2D)       (None, 18, 18, 512)       2359808   \n",
      "                                                                 \n",
      " block4_pool (MaxPooling2D)  (None, 9, 9, 512)         0         \n",
      "                                                                 \n",
      " block5_conv1 (Conv2D)       (None, 9, 9, 512)         2359808   \n",
      "                                                                 \n",
      " block5_conv2 (Conv2D)       (None, 9, 9, 512)         2359808   \n",
      "                                                                 \n",
      " block5_conv3 (Conv2D)       (None, 9, 9, 512)         2359808   \n",
      "                                                                 \n",
      " block5_pool (MaxPooling2D)  (None, 4, 4, 512)         0         \n",
      "                                                                 \n",
      "=================================================================\n",
      "Total params: 14,714,688\n",
      "Trainable params: 14,714,688\n",
      "Non-trainable params: 0\n",
      "_________________________________________________________________\n"
     ]
    }
   ],
   "source": [
    "# view the structure of the model\n",
    "vgg.summary()"
   ]
  },
  {
   "cell_type": "code",
   "execution_count": 104,
   "id": "74327d5b-ade4-4d4e-b73e-acc0936c7290",
   "metadata": {},
   "outputs": [
    {
     "name": "stdout",
     "output_type": "stream",
     "text": [
      "Found 494 images belonging to 2 classes.\n",
      "Found 200 images belonging to 2 classes.\n",
      "Found 200 images belonging to 2 classes.\n"
     ]
    }
   ],
   "source": [
    "#train_datagen = ImageDataGenerator(rescale = 1./255)\n",
    "\n",
    "\n",
    "train_datagen_aug = ImageDataGenerator(\n",
    "    rotation_range=20,\n",
    "    rescale=1. / 255, # rescale de image at the wirght format\n",
    "    width_shift_range=0.20, # Shift the pic width by a max of 5%\n",
    "    height_shift_range=0.20, # Shift the pic height by a max of 5% \n",
    "    shear_range=0.20, # Shear means cutting away part of the image (max 10%)\n",
    "    zoom_range=0.20, # Zoom in by 10% max\n",
    "    horizontal_flip=True, # Allo horizontal flipping\n",
    "    fill_mode='nearest' # Fill in missing pixels with the nearest filled value\n",
    ")\n",
    "\n",
    "training_set = train_datagen.flow_from_directory(train_dir,\n",
    "                                                 target_size = (150, 150),\n",
    "                                                 batch_size = 494,\n",
    "                                                 class_mode = 'binary')\n",
    "\n",
    "val_datagen = ImageDataGenerator(rescale=1. / 255)\n",
    "\n",
    "val_generator = val_datagen.flow_from_directory(validation_dir,\n",
    "                                                    target_size=(150, 150),\n",
    "                                                    batch_size=200,\n",
    "                                                    class_mode='binary')\n",
    "\n",
    "test_datagen = ImageDataGenerator(rescale = 1./255)\n",
    "\n",
    "test_set = test_datagen.flow_from_directory(test_dir,\n",
    "                                            target_size = (150, 150),\n",
    "                                            batch_size=200,\n",
    "                                           class_mode='binary')"
   ]
  },
  {
   "cell_type": "code",
   "execution_count": 105,
   "id": "89ab300a-2ee2-4d59-acb6-4d82a9afcd33",
   "metadata": {},
   "outputs": [],
   "source": [
    "#Make loaded layers as non-trainable. This is important as we want to work with pre-trained weights\n",
    "for layer in vgg.layers:\n",
    "\tlayer.trainable = False\n"
   ]
  },
  {
   "cell_type": "code",
   "execution_count": 106,
   "id": "8fa44178-d132-4d7f-968e-f9964bb4e302",
   "metadata": {},
   "outputs": [],
   "source": [
    "# train à passer dans vgg16 en allant récupérer\n",
    "x_train = training_set[0][0]\n",
    "y_train = training_set[0][1]\n",
    "x_test = test_set[0][0]\n",
    "y_test = test_set[0][1]\n",
    "x_val = val_generator[0][0]\n",
    "y_val = val_generator[0][1]"
   ]
  },
  {
   "cell_type": "code",
   "execution_count": 107,
   "id": "e945f4c0-7415-459a-ae4a-40deaded769c",
   "metadata": {},
   "outputs": [
    {
     "data": {
      "text/plain": [
       "(494, 150, 150, 3)"
      ]
     },
     "execution_count": 107,
     "metadata": {},
     "output_type": "execute_result"
    }
   ],
   "source": [
    "x_train.shape"
   ]
  },
  {
   "cell_type": "code",
   "execution_count": null,
   "id": "cec914e4-be5b-4834-a6a6-ca428d338bb2",
   "metadata": {},
   "outputs": [
    {
     "name": "stdout",
     "output_type": "stream",
     "text": [
      "16/16 [==============================] - 72s 5s/step\n",
      "2/7 [=======>......................] - ETA: 21s"
     ]
    }
   ],
   "source": [
    "features_train= vgg.predict(x_train).reshape(494, -1)\n",
    "features_test = vgg.predict(x_test).reshape(200, -1)\n",
    "features_val = vgg.predict(x_val).reshape(200, -1)"
   ]
  },
  {
   "cell_type": "code",
   "execution_count": null,
   "id": "43de184f-83e7-4c65-b3eb-eeb7ada14547",
   "metadata": {},
   "outputs": [],
   "source": [
    "features_train.shape"
   ]
  },
  {
   "cell_type": "markdown",
   "id": "041aa3f5-5e86-4328-80c2-95e507cc834b",
   "metadata": {},
   "source": [
    " #### Machine learning start  / Perceptron multicouche "
   ]
  },
  {
   "cell_type": "code",
   "execution_count": null,
   "id": "bb844c7c-8fb0-49d0-9636-9f2a4456894c",
   "metadata": {},
   "outputs": [],
   "source": [
    "model = Sequential()\n",
    "model.add(keras.layers.Dense(units=512, activation='relu', input_dim= 4 * 4 * 512)),\n",
    "model.add(Flatten()) ,\n",
    "model.add(keras.layers.Dense(units=270,activation='relu')),\n",
    "model.add(keras.layers.Dense(units=1, activation='sigmoid'))"
   ]
  },
  {
   "cell_type": "code",
   "execution_count": null,
   "id": "ef532726-8183-42ae-acc9-47e9eb2ac453",
   "metadata": {},
   "outputs": [],
   "source": [
    "model.compile(optimizer='Adam', loss='binary_crossentropy', metrics=['accuracy'])"
   ]
  },
  {
   "cell_type": "code",
   "execution_count": null,
   "id": "89612da8-98f2-4f63-8220-9186320b51ca",
   "metadata": {},
   "outputs": [],
   "source": [
    "history = model.fit(features_train, y_train , epochs = 100, batch_size = 494, validation_data=( features_val, val_generator[0][1]))"
   ]
  },
  {
   "cell_type": "code",
   "execution_count": null,
   "id": "a8595fa6-f750-4d48-9b31-83df6c467414",
   "metadata": {},
   "outputs": [],
   "source": [
    "ax = pd.DataFrame(data=history.history).plot(y=['loss','val_loss'], figsize=(15, 7))\n",
    "ax.grid()\n",
    "ax.set(title=\"Loss\", xlabel=\"Epochs\")\n",
    "ax.legend([\"Training loss\", \"Val_loss\"])\n",
    "plt.show()"
   ]
  },
  {
   "cell_type": "code",
   "execution_count": null,
   "id": "39f2691d-2331-49fc-8d40-255d94365f48",
   "metadata": {},
   "outputs": [],
   "source": [
    "ax = pd.DataFrame(data=history.history).plot(y=['accuracy', 'val_accuracy'], figsize=(15, 7))\n",
    "ax.grid()\n",
    "ax.set(title=\"Accuracy\", xlabel=\"Epochs\")\n",
    "ax.legend([\"Training accuracy\", \"Val_accuracy\"])\n",
    "plt.show()"
   ]
  },
  {
   "cell_type": "markdown",
   "id": "3489c13c-55f2-4624-8fd6-26eaa63f9d4c",
   "metadata": {},
   "source": [
    "### Confusion Matrix / Train"
   ]
  },
  {
   "cell_type": "code",
   "execution_count": 64,
   "id": "b0cb8998-6fa0-46a1-8e31-718a0b1420cf",
   "metadata": {},
   "outputs": [
    {
     "name": "stdout",
     "output_type": "stream",
     "text": [
      "16/16 [==============================] - 0s 7ms/step\n"
     ]
    },
    {
     "data": {
      "image/png": "[encoded data removed]",
      "text/plain": [
       "<Figure size 500x500 with 2 Axes>"
      ]
     },
     "metadata": {},
     "output_type": "display_data"
    }
   ],
   "source": [
    "y_predict_train = np.where(model.predict(features_train)<0.5, 0, 1) \n",
    "\n",
    "display = ConfusionMatrixDisplay(confusion_matrix = confusion_matrix(y_predict_train, y_train))\n",
    "fig, ax = plt.subplots(figsize=(5,5))\n",
    "display.plot(ax=ax)\n",
    "\n",
    "plt.show()"
   ]
  },
  {
   "cell_type": "markdown",
   "id": "56b2a3b8-c89c-414d-8aea-2caa63abfb47",
   "metadata": {},
   "source": [
    "### Confusion Matrix / Test"
   ]
  },
  {
   "cell_type": "code",
   "execution_count": 68,
   "id": "c663291d-2ea8-411a-920a-4c91a1d5c55a",
   "metadata": {},
   "outputs": [
    {
     "name": "stdout",
     "output_type": "stream",
     "text": [
      "7/7 [==============================] - 0s 7ms/step\n"
     ]
    },
    {
     "data": {
      "image/png": "[encoded data removed]",
      "text/plain": [
       "<Figure size 500x500 with 2 Axes>"
      ]
     },
     "metadata": {},
     "output_type": "display_data"
    }
   ],
   "source": [
    "y_predict_test = np.where(model.predict(features_test)<0.5, 0, 1) \n",
    "\n",
    "display = ConfusionMatrixDisplay(confusion_matrix = confusion_matrix(y_predict_test, y_test))\n",
    "fig, ax = plt.subplots(figsize=(5,5))\n",
    "display.plot(ax=ax)\n",
    "\n",
    "plt.show()"
   ]
  },
  {
   "cell_type": "markdown",
   "id": "d1d61f65-882e-45f7-a5d6-1151b5b4ffc1",
   "metadata": {},
   "source": [
    "### Confusion Matrix / Eval "
   ]
  },
  {
   "cell_type": "code",
   "execution_count": 70,
   "id": "baa0ec4a-6fd2-4d78-aaac-e2722c3354aa",
   "metadata": {},
   "outputs": [
    {
     "name": "stdout",
     "output_type": "stream",
     "text": [
      "7/7 [==============================] - 0s 9ms/step\n"
     ]
    },
    {
     "data": {
      "image/png": "[encoded data removed]",
      "text/plain": [
       "<Figure size 500x500 with 2 Axes>"
      ]
     },
     "metadata": {},
     "output_type": "display_data"
    }
   ],
   "source": [
    "y_predict_val = np.where(model.predict(features_val)<0.5, 0, 1) \n",
    "\n",
    "display = ConfusionMatrixDisplay(confusion_matrix = confusion_matrix(y_predict_test, y_val))\n",
    "fig, ax = plt.subplots(figsize=(5,5))\n",
    "display.plot(ax=ax)\n",
    "\n",
    "plt.show()"
   ]
  },
  {
   "cell_type": "code",
   "execution_count": null,
   "id": "2af7f2a0-8da2-4553-92af-fcbd254740b7",
   "metadata": {},
   "outputs": [],
   "source": []
  }
 ],
 "metadata": {
  "kernelspec": {
   "display_name": "Python 3 (ipykernel)",
   "language": "python",
   "name": "python3"
  },
  "language_info": {
   "codemirror_mode": {
    "name": "ipython",
    "version": 3
   },
   "file_extension": ".py",
   "mimetype": "text/x-python",
   "name": "python",
   "nbconvert_exporter": "python",
   "pygments_lexer": "ipython3",
   "version": "3.10.4"
  }
 },
 "nbformat": 4,
 "nbformat_minor": 5
}
